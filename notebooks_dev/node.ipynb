{
 "cells": [
  {
   "cell_type": "code",
   "execution_count": 1,
   "metadata": {},
   "outputs": [],
   "source": [
    "#default_exp node"
   ]
  },
  {
   "cell_type": "code",
   "execution_count": 2,
   "metadata": {},
   "outputs": [],
   "source": [
    "#hide\n",
    "#workaround to make relative imports inside notebook\n",
    "import sys\n",
    "sys.path.append('..')\n",
    "\n",
    "%load_ext autoreload\n",
    "%autoreload 2"
   ]
  },
  {
   "cell_type": "markdown",
   "metadata": {},
   "source": [
    "# Dependencies"
   ]
  },
  {
   "cell_type": "code",
   "execution_count": 30,
   "metadata": {},
   "outputs": [],
   "source": [
    "#export\n",
    "import d6tflow\n",
    "\n",
    "import os\n",
    "from pathlib import Path\n",
    "from warnings import warn\n",
    "from collections import defaultdict\n",
    "\n",
    "from sklearn.base import BaseEstimator, TransformerMixin\n",
    "from sklearn.exceptions import NotFittedError\n",
    "from sklearn.preprocessing import FunctionTransformer\n",
    "\n",
    "from scipy import sparse\n",
    "import numpy as np"
   ]
  },
  {
   "cell_type": "code",
   "execution_count": null,
   "metadata": {},
   "outputs": [],
   "source": []
  },
  {
   "cell_type": "markdown",
   "metadata": {},
   "source": [
    "# Input handling\n",
    "> fucntionalities to handle inputs from tasks"
   ]
  },
  {
   "cell_type": "code",
   "execution_count": 101,
   "metadata": {},
   "outputs": [],
   "source": [
    "#export\n",
    "#TODO: define node name validaton rules\n",
    "def _validate_name(name):\n",
    "    '''\n",
    "    function to validate node names.\n",
    "    for now, any name is accepeted.\n",
    "    '''\n",
    "    return name\n"
   ]
  },
  {
   "cell_type": "markdown",
   "metadata": {},
   "source": [
    "# Nodes\n",
    "> Node InputTransformer and NodeTransformer, classes to wrap sklearn estimators and compose final DAGEstimator"
   ]
  },
  {
   "cell_type": "code",
   "execution_count": 6,
   "metadata": {},
   "outputs": [],
   "source": [
    "#export\n",
    "def _validate_input_nodes(input_nodes, child_name):\n",
    "    '''\n",
    "    checks if input nodes are valid (NodeTransformer).\n",
    "    If not NodeTransformer but valid BaseEstimator instance, wrapps BaseEstimator in NodeTransformer\n",
    "    '''\n",
    "        \n",
    "    processed_nodes = []\n",
    "    for node in input_nodes:\n",
    "        if isinstance(node, NodeTransformer):\n",
    "            processed_nodes.append(node)\n",
    "        \n",
    "        elif isinstance(node, BaseEstimator):\n",
    "            node = NodeTransformer(node, 'Parent' + child_name)\n",
    "            process_nodes.append()"
   ]
  },
  {
   "cell_type": "markdown",
   "metadata": {},
   "source": [
    "## Cache handler"
   ]
  },
  {
   "cell_type": "code",
   "execution_count": null,
   "metadata": {},
   "outputs": [],
   "source": []
  },
  {
   "cell_type": "markdown",
   "metadata": {},
   "source": [
    "## BaseNode"
   ]
  },
  {
   "cell_type": "code",
   "execution_count": 83,
   "metadata": {},
   "outputs": [],
   "source": [
    "#export\n",
    "class BaseNode(BaseEstimator):\n",
    "    '''\n",
    "    Base class for nodes\n",
    "    every child must have a self.estimator and self.name attribute, otherwise getattr will\n",
    "    raise an AttributeError\n",
    "    '''    \n",
    "    \n",
    "    def __getattr__(self, attr):        \n",
    "        return getattr(self.estimator, attr)\n",
    "    \n",
    "    def __repr__(self,):\n",
    "        return self.name\n",
    "    \n",
    "    @property\n",
    "    def estimator(self):\n",
    "        if self.cached_estimator:\n",
    "            #pickle load estimator\n",
    "            return __estimator\n",
    "        else:\n",
    "            return self.__estimator\n",
    "            \n",
    "        "
   ]
  },
  {
   "cell_type": "markdown",
   "metadata": {},
   "source": [
    "## InputTransformer"
   ]
  },
  {
   "cell_type": "code",
   "execution_count": 113,
   "metadata": {},
   "outputs": [],
   "source": [
    "#export\n",
    "class InputTransformer(BaseNode, TransformerMixin):\n",
    "    \n",
    "    def __init__(self, name = None):\n",
    "                                        \n",
    "        if name is None:\n",
    "            self.name = str(id(self)) + '__input'\n",
    "        else:\n",
    "            self.name = _validate_name(name) + '__input'\n",
    "                \n",
    "        self.__cache = None\n",
    "        return    \n",
    "    \n",
    "    @property\n",
    "    def cache(self,):\n",
    "        if self.__cache is None:\n",
    "            raise NotFittedError('InputNode is not fitted yet. Call fit with its respective input value prior to calling transform or get_input')\n",
    "        return self.__cache\n",
    "    \n",
    "    def fit(self, X, **kwargs):\n",
    "        self.__cache = X\n",
    "        return self\n",
    "    \n",
    "    def transform(self, **kwargs):\n",
    "        return self.cache\n",
    "    \n",
    "    def get_input(self):\n",
    "        return self.transform()"
   ]
  },
  {
   "cell_type": "markdown",
   "metadata": {},
   "source": [
    "## NodeTransformer"
   ]
  },
  {
   "cell_type": "code",
   "execution_count": 114,
   "metadata": {},
   "outputs": [],
   "source": [
    "#export\n",
    "class NodeTransformer(BaseNode):\n",
    "        \n",
    "    def __init__(self, estimator, input_nodes = [], name = None, transform_method = 'transform'):\n",
    "        \n",
    "        self.estimator = estimator\n",
    "        \n",
    "        if not isinstance(input_nodes, (list, tuple)) and (len(input_nodes) > 0):\n",
    "            raise TypeError(f'input_nodes should be a list or tuple with length greater than 0, got {input_nodes}')\n",
    "        self.input_nodes = input_nodes\n",
    "        \n",
    "        if name is None:\n",
    "            self.name = 'Task' + str(id(self))\n",
    "        else:\n",
    "            self.name = _validate_name(name)                                        \n",
    "        \n",
    "        self.transform_method = transform_method                \n",
    "        return\n",
    "    \n",
    "    def transform(self, X, **kwargs):        \n",
    "        return getattr(self.estimator, self.transform_method)(X, **kwargs)"
   ]
  },
  {
   "cell_type": "markdown",
   "metadata": {},
   "source": [
    "# ConcatenateNode"
   ]
  },
  {
   "cell_type": "code",
   "execution_count": 115,
   "metadata": {},
   "outputs": [],
   "source": [
    "#export\n",
    "\n",
    "def _concat(X):\n",
    "    \n",
    "    '''\n",
    "    concatenate function, handles mixed sparse and dense\n",
    "    '''\n",
    "\n",
    "    if not isinstance(X, (tuple, list)):\n",
    "        raise TypeError(f'X must be list or tuple, got {type(X)}')\n",
    "\n",
    "    X = list(X)\n",
    "    for i in range(len(X)):\n",
    "        if len(X[i].shape) < 2:\n",
    "            X[i] = X[i].reshape(-1,1)\n",
    "    \n",
    "    if any([sparse.issparse(x) for x in X]):\n",
    "        X = sparse.hstack(X)\n",
    "    else:                \n",
    "        X = np.hstack(X)\n",
    "\n",
    "    return X\n",
    "\n",
    "class ConcatenateNode(NodeTransformer):\n",
    "    '''\n",
    "    transformer to concatenate (hstack) arrays in a tuple or list\n",
    "    '''\n",
    "    def __init__(self, input_nodes, name = None):        \n",
    "        super().__init__(FunctionTransformer(_concat), input_nodes = input_nodes, name = name)\n",
    "        return        "
   ]
  },
  {
   "cell_type": "markdown",
   "metadata": {},
   "source": [
    "# CustomYNode"
   ]
  },
  {
   "cell_type": "code",
   "execution_count": 116,
   "metadata": {},
   "outputs": [],
   "source": [
    "class CustomYNode(NodeTransformer):\n",
    "    '''\n",
    "    recieves X inputs and y inputs, that is, the learning task (y) can be defined as the output of\n",
    "    some node, as well as the input values (X)\n",
    "    '''\n",
    "    pass"
   ]
  },
  {
   "cell_type": "markdown",
   "metadata": {},
   "source": [
    "# Dask DAG Example"
   ]
  },
  {
   "cell_type": "code",
   "execution_count": 118,
   "metadata": {},
   "outputs": [
    {
     "data": {
      "image/png": "[encoded data removed]",
      "text/plain": [
       "<IPython.core.display.Image object>"
      ]
     },
     "execution_count": 118,
     "metadata": {},
     "output_type": "execute_result"
    }
   ],
   "source": [
    "from dask import delayed\n",
    "input1 = InputTransformer()\n",
    "input2 = InputTransformer()\n",
    "concat1 = ConcatenateNode([input1,input2])\n",
    "\n",
    "node1 = NodeTransformer(FunctionTransformer(lambda x: x+1), [concat1])\n",
    "\n",
    "\n",
    "\n",
    "in1 = delayed(input1.get_input)()\n",
    "in2 = delayed(input2.get_input)()\n",
    "out = delayed(concat1.fit_transform)([in1, in2])\n",
    "out = delayed(node1.fit_transform)(out)\n",
    "\n",
    "\n",
    "x = np.ones(10)\n",
    "y = np.random.randn(10)\n",
    "\n",
    "input1.fit(x)\n",
    "input2.fit(y)\n",
    "\n",
    "out.compute()"
   ]
  },
  {
   "cell_type": "markdown",
   "metadata": {},
   "source": [
    "# Export"
   ]
  },
  {
   "cell_type": "code",
   "execution_count": 24,
   "metadata": {},
   "outputs": [
    {
     "name": "stdout",
     "output_type": "stream",
     "text": [
      "Converted d6tflow-sklearn.ipynb.\n",
      "Converted dag.ipynb.\n",
      "Converted node.ipynb.\n",
      "Converted utils.ipynb.\n"
     ]
    }
   ],
   "source": [
    "#hide\n",
    "from nbdev.export import notebook2script\n",
    "notebook2script()"
   ]
  },
  {
   "cell_type": "code",
   "execution_count": null,
   "metadata": {},
   "outputs": [],
   "source": []
  }
 ],
 "metadata": {
  "kernelspec": {
   "display_name": "Python 3",
   "language": "python",
   "name": "python3"
  },
  "language_info": {
   "codemirror_mode": {
    "name": "ipython",
    "version": 3
   },
   "file_extension": ".py",
   "mimetype": "text/x-python",
   "name": "python",
   "nbconvert_exporter": "python",
   "pygments_lexer": "ipython3",
   "version": "3.7.6"
  },
  "latex_envs": {
   "LaTeX_envs_menu_present": true,
   "autoclose": false,
   "autocomplete": true,
   "bibliofile": "biblio.bib",
   "cite_by": "apalike",
   "current_citInitial": 1,
   "eqLabelWithNumbers": true,
   "eqNumInitial": 1,
   "hotkeys": {
    "equation": "Ctrl-E",
    "itemize": "Ctrl-I"
   },
   "labels_anchors": false,
   "latex_user_defs": false,
   "report_style_numbering": false,
   "user_envs_cfg": false
  },
  "toc": {
   "base_numbering": 1,
   "nav_menu": {},
   "number_sections": true,
   "sideBar": true,
   "skip_h1_title": false,
   "title_cell": "Table of Contents",
   "title_sidebar": "Contents",
   "toc_cell": false,
   "toc_position": {},
   "toc_section_display": true,
   "toc_window_display": false
  }
 },
 "nbformat": 4,
 "nbformat_minor": 4
}
